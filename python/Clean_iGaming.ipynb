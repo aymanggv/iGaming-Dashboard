{
 "cells": [
  {
   "cell_type": "code",
   "execution_count": 1,
   "id": "44652030",
   "metadata": {},
   "outputs": [],
   "source": [
    "import pandas as pd\n",
    "\n",
    "# Load the data\n",
    "df = pd.read_excel('C:/Users/ayman/OneDrive/Desktop/iGaming-New.xlsx')\n",
    "\n",
    "#df\n",
    "\n",
    "# Add product category based on metric name\n",
    "def get_product_category(metric_name):\n",
    "    if metric_name.startswith('sports_'):\n",
    "        return 'sports'\n",
    "    elif metric_name.startswith('casino_'):\n",
    "        return 'casino'\n",
    "    elif metric_name.startswith('live_casino_'):\n",
    "        return 'live_casino'\n",
    "    else:\n",
    "        return 'overall'\n",
    "\n",
    "df['Product'] = df['Attribute'].apply(get_product_category)\n",
    "\n",
    "# Clean metric names by removing product prefixes\n",
    "df['Attribute'] = df['Attribute'].str.replace('^(sports_|casino_|live_casino_)', '', regex=True)\n",
    "\n",
    "df.to_excel('C:/Users/ayman/OneDrive/Desktop/iGaming-New.xlsx')"
   ]
  }
 ],
 "metadata": {
  "kernelspec": {
   "display_name": "Python 3",
   "language": "python",
   "name": "python3"
  },
  "language_info": {
   "codemirror_mode": {
    "name": "ipython",
    "version": 3
   },
   "file_extension": ".py",
   "mimetype": "text/x-python",
   "name": "python",
   "nbconvert_exporter": "python",
   "pygments_lexer": "ipython3",
   "version": "3.12.0"
  }
 },
 "nbformat": 4,
 "nbformat_minor": 5
}
